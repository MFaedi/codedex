{
 "cells": [
  {
   "cell_type": "code",
   "execution_count": null,
   "id": "be95986d-2f9b-4a5a-bfb8-89c8527fcebf",
   "metadata": {},
   "outputs": [],
   "source": [
    "with open('diaries.txt', 'w') as file:\n",
    "  file.write('Date: March 19, 2024 \\n')\n",
    "  file.write('Dear Diary...')"
   ]
  },
  {
   "cell_type": "code",
   "execution_count": 13,
   "id": "8685c1cc-9687-464e-8257-d1b943471922",
   "metadata": {},
   "outputs": [
    {
     "name": "stdout",
     "output_type": "stream",
     "text": [
      "Date: March 19, 2024 \n",
      "Dear Diary..."
     ]
    }
   ],
   "source": [
    "with open('diaries.txt', 'r') as file1:\n",
    "    lines = file1.readlines()\n",
    "    for line in lines:\n",
    "        print(line, end='')"
   ]
  },
  {
   "cell_type": "code",
   "execution_count": 20,
   "id": "e88a7bd8-69a8-47e5-bd78-78f6e8ea3980",
   "metadata": {},
   "outputs": [
    {
     "name": "stdout",
     "output_type": "stream",
     "text": [
      "dict_items([('Bad Habits', 'Ed Sheeran'), (\"I'm just Ken\", 'Ryan Gosling'), ('Mastermind', 'Taylor Swift'), ('Uptown Funk', 'Mark Ronson ft. Bruno Mars'), ('Ghost', 'Justin Bieber')])\n"
     ]
    }
   ],
   "source": [
    "liked_songs = {\n",
    "  \"Bad Habits\" : \"Ed Sheeran\",\n",
    "  \"I'm just Ken\" : \"Ryan Gosling\",\n",
    "  \"Mastermind\" :\"Taylor Swift\",\n",
    "  \"Uptown Funk\" :\"Mark Ronson ft. Bruno Mars\",\n",
    "  \"Ghost\" : \"Justin Bieber\"\n",
    "}\n",
    "print(liked_songs.items())\n",
    "\n",
    "def write_liked_songs_to_file(songs, file_name):\n",
    "  with open(file_name, 'w') as file_name:\n",
    "    file_name.write('Liked Songs:\\n')\n",
    "    for song, artist in songs.items():\n",
    "      file_name.write(f'{song} by {artist}\\n')\n",
    "\n",
    "write_liked_songs_to_file(liked_songs, 'test.txt')"
   ]
  },
  {
   "cell_type": "code",
   "execution_count": 22,
   "id": "bb7d9b7b-ee7e-4e45-98ad-b2d06de2a0a1",
   "metadata": {},
   "outputs": [
    {
     "name": "stdout",
     "output_type": "stream",
     "text": [
      "Original Message: Hey there! This is a secret message.\n",
      "Unsent Message: This message has been unsent.\n"
     ]
    }
   ],
   "source": [
    "sent_message = 'Hey there! This is a secret message.'\n",
    "\n",
    "with open('sent_message.txt', 'w') as file:\n",
    "  file.write(sent_message)\n",
    "\n",
    "\n",
    "with open('sent_message.txt', 'r+') as file:\n",
    "    # Read the sent message from the file\n",
    "    original_message = file.read()\n",
    "    # Move the cursor to the beginning of the file\n",
    "    file.seek(0)\n",
    "    # Modify the message to simulate unsending\n",
    "    unsent_message = 'This message has been unsent.'\n",
    "    file.truncate(len(unsent_message))\n",
    "    file.write(unsent_message)\n",
    "    print('Original Message:', original_message)\n",
    "    print('Unsent Message:', unsent_message)\n"
   ]
  },
  {
   "cell_type": "code",
   "execution_count": 26,
   "id": "9a2eb7fd-101d-4360-abe8-370637104976",
   "metadata": {},
   "outputs": [
    {
     "name": "stdout",
     "output_type": "stream",
     "text": [
      "Bestselling info written to bestseller_info.csv\n"
     ]
    }
   ],
   "source": [
    "# Bestsellers 📚\n",
    "# Codédex\n",
    "\n",
    "import csv\n",
    "\n",
    "# Open the magical booklist (CSV file)\n",
    "csv_file_path = 'Bestseller - Sheet1.csv'\n",
    "\n",
    "best_selling_book = None\n",
    "max_sales = 0\n",
    "\n",
    "# Task 1: Reading the CSV file\n",
    "with open(csv_file_path, 'r', encoding='utf-8') as csv_file:\n",
    "  csv_reader = csv.reader(csv_file)\n",
    "  \n",
    "  # Skip the header row\n",
    "  csv_file.readline()\n",
    "  \n",
    "  for row in csv_reader:\n",
    "    # Extract sales from the row (assuming 'sales in millions' is the fifth column)\n",
    "    current_sales = float(row[4])\n",
    "    \n",
    "    if current_sales > max_sales:\n",
    "      max_sales = current_sales\n",
    "      best_selling_book = row\n",
    "\n",
    "# Task 2: Creating a new file for bestseller info\n",
    "output_file_path = 'bestseller_info.csv'\n",
    "with open(output_file_path, 'w', newline='') as output_file:\n",
    "  csv_writer = csv.writer(output_file)\n",
    "  \n",
    "  # Write header\n",
    "  csv_writer.writerow(['Book', 'Author', 'Sales in Millions'])\n",
    "  \n",
    "  # Write best-selling book info\n",
    "  csv_writer.writerow([best_selling_book[0], best_selling_book[1], best_selling_book[4]])\n",
    "\n",
    "# Bonus: Print confirmation message\n",
    "print('Bestselling info written to', output_file_path)"
   ]
  },
  {
   "cell_type": "code",
   "execution_count": 33,
   "id": "3a64f157-3536-4b47-9007-372d50978e81",
   "metadata": {},
   "outputs": [
    {
     "name": "stdout",
     "output_type": "stream",
     "text": [
      "26.9\n",
      "<filter object at 0x1077da4a0>\n",
      "<map object at 0x1077da890>\n"
     ]
    }
   ],
   "source": [
    "# Write code below 💖\n",
    "from functools import reduce\n",
    "\n",
    "# List of songs with their durations (in minutes)\n",
    "playlist = [('What Was I Made For?', 3.42), ('Just Like That', 5.05), ('Song 3', 6.8), ('Leave The Door Open', 4.02), ('I Can\\'t Breath', 4.47), ('Bad Guy', 3.14)]\n",
    "\n",
    "def longer_than_five_minutes(song):\n",
    "  return song[1] > 5.00\n",
    "\n",
    "def minutes_to_seconds(song):\n",
    "  duration = song[1]\n",
    "  minutes = int(duration)\n",
    "  seconds = (duration - minutes) * 100\n",
    "  return 60 * minutes + round(seconds)\n",
    "\n",
    "def add_durations(total, song):\n",
    "  duration = song[1]\n",
    "  return total + duration\n",
    "\n",
    "x = filter(longer_than_five_minutes, playlist)\n",
    "y = map(minutes_to_seconds, playlist)\n",
    "print(reduce(add_durations, playlist, 0))\n",
    "\n",
    "print(x)\n",
    "print(y)"
   ]
  },
  {
   "cell_type": "code",
   "execution_count": 16,
   "id": "5ef1fba0-f873-4273-bec3-e07af2e65632",
   "metadata": {},
   "outputs": [],
   "source": [
    "# Write code below 💖\n",
    "\n",
    "# Write code below 💖\n",
    "\n",
    "import random\n",
    "from functools import reduce\n",
    "\n",
    "prefixes = ['Mystic', 'Golden', 'Dark', 'Shadow', 'Silver']\n",
    "suffixes = ['storm', 'song', 'fire', 'blade', 'whisper']\n",
    "\n",
    "def capitalize_suffix(name):\n",
    "  return name.capitalize()\n",
    "\n",
    "cap_suffixes = list(map(capitalize_suffix, suffixes))\n",
    "\n",
    "\n",
    "def create_fantasy_name(list_1, list_2):\n",
    "  return random.choice(list_1) + ' ' + random.choice(list_2)\n",
    "\n",
    "\n",
    "random_names = [create_fantasy_name(prefixes, cap_suffixes) for i in range(10)]\n",
    "\n",
    "def fire_in_name(name):\n",
    "  return 'Fire' in name\n",
    "\n",
    "\n",
    "def concatenate_names(name1, name2):\n",
    "  return name1 + ', ' + name2\n",
    "\n",
    "filtered_names = list(filter(fire_in_name, random_names))\n",
    "reduced_names = reduce(concatenate_names, filtered_names)\n",
    "\n",
    "def display_name_info():\n",
    "  print(\"Fantasy Names:\")\n",
    "  for name in random_names:\n",
    "    print(name)\n",
    "  print()\n",
    "  print(f'Filtered names with \"Fire\": {filtered_names}')\n",
    "  print(f'Concatenated names: {reduced_names}')"
   ]
  },
  {
   "cell_type": "code",
   "execution_count": 17,
   "id": "21d2df49-0eab-46c7-853f-f96dc7a58000",
   "metadata": {},
   "outputs": [
    {
     "name": "stdout",
     "output_type": "stream",
     "text": [
      "Fantasy Names:\n",
      "Shadow Blade\n",
      "Silver Storm\n",
      "Shadow Fire\n",
      "Dark Blade\n",
      "Mystic Fire\n",
      "Mystic Whisper\n",
      "Golden Song\n",
      "Golden Fire\n",
      "Golden Storm\n",
      "Silver Blade\n",
      "\n",
      "Filtered names with \"Fire\": ['Shadow Fire', 'Mystic Fire', 'Golden Fire']\n",
      "Concatenated names: Shadow Fire, Mystic Fire, Golden Fire\n"
     ]
    }
   ],
   "source": [
    "display_name_info()"
   ]
  },
  {
   "cell_type": "code",
   "execution_count": 19,
   "id": "234f2907-6d35-42d0-890d-f3bc7000dffe",
   "metadata": {},
   "outputs": [],
   "source": [
    "import unittest\n",
    "\n",
    "def reverse_string(s):\n",
    "    return s[[::-1]\n",
    "\n",
    "def capitalize_string(s):\n",
    "    return s.capitalize()\n",
    "\n",
    "def is_capitalize(s):\n",
    "    return s[0].isupper()\n",
    "\n",
    "class TestString(unittest.TestCase):\n",
    "    def test_reverse_string(self):\n",
    "\n"
   ]
  },
  {
   "cell_type": "code",
   "execution_count": 23,
   "id": "b5c5fb97-ef0d-465f-a727-78745a842f82",
   "metadata": {},
   "outputs": [
    {
     "data": {
      "text/plain": [
       "<__main__.CoffeeMenu at 0x10a9f4bc0>"
      ]
     },
     "execution_count": 23,
     "metadata": {},
     "output_type": "execute_result"
    }
   ],
   "source": [
    "class CoffeeMenu:\n",
    "  def __init__(self):\n",
    "    self.menu = {\n",
    "      'espresso': 2.50,\n",
    "      'latte': 2.75,\n",
    "      'cappuccino': 3.20,\n",
    "      'americano': 2.70\n",
    "    }\n",
    "\n",
    "\n",
    "prova = CoffeeMenu()\n",
    "prova"
   ]
  },
  {
   "cell_type": "code",
   "execution_count": 6,
   "id": "679caeac-c4cb-43a0-9ecc-c3152bfbf79d",
   "metadata": {},
   "outputs": [
    {
     "name": "stdout",
     "output_type": "stream",
     "text": [
      "\n",
      "We are rolling 2 dice. \n",
      "You have to guess the number rolled.\n",
      "Good luck 🍀\n",
      "\n"
     ]
    },
    {
     "name": "stdin",
     "output_type": "stream",
     "text": [
      "Wanna play?  yes\n",
      "What is the total (2-12):  2\n"
     ]
    },
    {
     "name": "stdout",
     "output_type": "stream",
     "text": [
      "Try another time\n"
     ]
    },
    {
     "name": "stdin",
     "output_type": "stream",
     "text": [
      "What is the total (2-12):  3\n"
     ]
    },
    {
     "name": "stdout",
     "output_type": "stream",
     "text": [
      "Try another time\n"
     ]
    },
    {
     "name": "stdin",
     "output_type": "stream",
     "text": [
      "What is the total (2-12):  4\n"
     ]
    },
    {
     "name": "stdout",
     "output_type": "stream",
     "text": [
      "Try another time\n"
     ]
    },
    {
     "name": "stdin",
     "output_type": "stream",
     "text": [
      "What is the total (2-12):  5\n"
     ]
    },
    {
     "name": "stdout",
     "output_type": "stream",
     "text": [
      "Try another time\n"
     ]
    },
    {
     "name": "stdin",
     "output_type": "stream",
     "text": [
      "What is the total (2-12):  6\n"
     ]
    },
    {
     "name": "stdout",
     "output_type": "stream",
     "text": [
      "Try another time\n"
     ]
    },
    {
     "name": "stdin",
     "output_type": "stream",
     "text": [
      "What is the total (2-12):  7\n"
     ]
    },
    {
     "name": "stdout",
     "output_type": "stream",
     "text": [
      "Congrats. The number was 7\n"
     ]
    },
    {
     "name": "stdin",
     "output_type": "stream",
     "text": [
      "Wanna play?  yes\n",
      "What is the total (2-12):  4\n"
     ]
    },
    {
     "name": "stdout",
     "output_type": "stream",
     "text": [
      "Try another time\n"
     ]
    },
    {
     "name": "stdin",
     "output_type": "stream",
     "text": [
      "What is the total (2-12):  5\n"
     ]
    },
    {
     "name": "stdout",
     "output_type": "stream",
     "text": [
      "Try another time\n"
     ]
    },
    {
     "name": "stdin",
     "output_type": "stream",
     "text": [
      "What is the total (2-12):  7\n"
     ]
    },
    {
     "name": "stdout",
     "output_type": "stream",
     "text": [
      "Try another time\n"
     ]
    },
    {
     "name": "stdin",
     "output_type": "stream",
     "text": [
      "What is the total (2-12):  6\n"
     ]
    },
    {
     "name": "stdout",
     "output_type": "stream",
     "text": [
      "Try another time\n"
     ]
    },
    {
     "name": "stdin",
     "output_type": "stream",
     "text": [
      "What is the total (2-12):  2\n"
     ]
    },
    {
     "name": "stdout",
     "output_type": "stream",
     "text": [
      "Try another time\n"
     ]
    },
    {
     "name": "stdin",
     "output_type": "stream",
     "text": [
      "What is the total (2-12):  3\n"
     ]
    },
    {
     "name": "stdout",
     "output_type": "stream",
     "text": [
      "Try another time\n"
     ]
    },
    {
     "name": "stdin",
     "output_type": "stream",
     "text": [
      "What is the total (2-12):  8\n"
     ]
    },
    {
     "name": "stdout",
     "output_type": "stream",
     "text": [
      "Congrats. The number was 8\n"
     ]
    },
    {
     "name": "stdin",
     "output_type": "stream",
     "text": [
      "Wanna play?  9\n"
     ]
    },
    {
     "name": "stdout",
     "output_type": "stream",
     "text": [
      "Have a nice day\n"
     ]
    }
   ],
   "source": [
    "# Write code below 💖\n",
    "\n",
    "import random\n",
    "\n",
    "print(\"\"\"\n",
    "We are rolling 2 dice. \n",
    "You have to guess the number rolled.\n",
    "Good luck 🍀\n",
    "\"\"\")\n",
    "while input('Wanna play? ').strip().lower() == 'yes':\n",
    "  dice1 = random.randint(1,6)\n",
    "  dice2 = random.randint(1,6)\n",
    "  total = dice1 + dice2\n",
    "\n",
    "  guess = int(input('What is the total (2-12): '))\n",
    "  while guess != total:\n",
    "    print('Try another time')\n",
    "    guess = int(input('What is the total (2-12): '))\n",
    "  print(f'Congrats. The number was {total}')\n",
    "print(\"Have a nice day\")"
   ]
  },
  {
   "cell_type": "code",
   "execution_count": 7,
   "id": "4d5a2b06-434e-46d9-b83f-d70b993cab35",
   "metadata": {},
   "outputs": [
    {
     "name": "stdout",
     "output_type": "stream",
     "text": [
      "*\n",
      "**\n",
      "***\n",
      "****\n",
      "*****\n",
      "******\n",
      "*******\n",
      "********\n",
      "*********\n",
      "**********\n",
      "***********\n",
      "************\n",
      "*************\n",
      "**************\n",
      "***************\n",
      "****************\n",
      "*****************\n",
      "******************\n",
      "*******************\n",
      "********************\n",
      "*********************\n",
      "**********************\n",
      "***********************\n",
      "************************\n"
     ]
    }
   ],
   "source": [
    "for i in range(1,25):\n",
    "  print(\"*\"*i)"
   ]
  },
  {
   "cell_type": "code",
   "execution_count": null,
   "id": "0feb68e9-b0ed-4494-aac9-951f4fa18dc5",
   "metadata": {},
   "outputs": [],
   "source": []
  }
 ],
 "metadata": {
  "kernelspec": {
   "display_name": "Python 3 (ipykernel)",
   "language": "python",
   "name": "python3"
  },
  "language_info": {
   "codemirror_mode": {
    "name": "ipython",
    "version": 3
   },
   "file_extension": ".py",
   "mimetype": "text/x-python",
   "name": "python",
   "nbconvert_exporter": "python",
   "pygments_lexer": "ipython3",
   "version": "3.12.4"
  }
 },
 "nbformat": 4,
 "nbformat_minor": 5
}
